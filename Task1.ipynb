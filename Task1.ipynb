{
 "cells": [
  {
   "cell_type": "markdown",
   "metadata": {},
   "source": [
    "About Dataset\n",
    "Content\n",
    "This is a simple dataset to start with. It contains only the height (inches) and weights (pounds) of 25,000 different humans of 18 years of age. This dataset can be used to build a model that can predict the heights or weights of a human.\n",
    "\n",
    "Acknowledgement\n",
    "Link: http://socr.ucla.edu/docs/resources/SOCR_Data/SOCR_Data_Dinov_020108_HeightsWeights.html\n",
    "Scraped the aforementioned HTML page using a Regex Parser. (BeautifulSoup - Python)\n",
    "\n",
    "Inspiration\n",
    "Build a predictive model for determining height or weight of a person. Implement a regression model that will be used for predicting height or weight."
   ]
  },
  {
   "cell_type": "markdown",
   "metadata": {},
   "source": [
    "# Importing the Required Libraries"
   ]
  },
  {
   "cell_type": "code",
   "execution_count": 1,
   "metadata": {},
   "outputs": [],
   "source": [
    "import numpy as np\n",
    "import pandas as pd\n",
    "import matplotlib.pyplot as plt"
   ]
  },
  {
   "cell_type": "markdown",
   "metadata": {},
   "source": [
    "# Importing the Data from CSV files"
   ]
  },
  {
   "cell_type": "code",
   "execution_count": 2,
   "metadata": {},
   "outputs": [
    {
     "name": "stdout",
     "output_type": "stream",
     "text": [
      "   Height(Inches)  Weight(Pounds)\n",
      "0        65.78331        112.9925\n",
      "1        71.51521        136.4873\n",
      "2        69.39874        153.0269\n",
      "3        68.21660        142.3354\n",
      "4        67.78781        144.2971\n"
     ]
    }
   ],
   "source": [
    "data = pd.read_csv(\"HeightWeight.csv\")\n",
    "print(data.head())"
   ]
  },
  {
   "cell_type": "markdown",
   "metadata": {},
   "source": [
    "# Data Preprossesing\n",
    "## 1.) Finding Missing Data\n",
    "## 2.) Encoding Categorical Data\n",
    "## 3.) Splitting dataset into training and test set\n",
    "## 4.) Feature scaling"
   ]
  },
  {
   "cell_type": "markdown",
   "metadata": {},
   "source": [
    "### finding if dataset contains any null value"
   ]
  },
  {
   "cell_type": "code",
   "execution_count": 3,
   "metadata": {},
   "outputs": [
    {
     "data": {
      "text/plain": [
       "Height(Inches)    0\n",
       "Weight(Pounds)    0\n",
       "dtype: int64"
      ]
     },
     "execution_count": 3,
     "metadata": {},
     "output_type": "execute_result"
    }
   ],
   "source": [
    "data.isnull().sum()"
   ]
  },
  {
   "cell_type": "markdown",
   "metadata": {},
   "source": [
    "The above List Shows that there isnt any missing values so we can proced futher"
   ]
  },
  {
   "cell_type": "markdown",
   "metadata": {},
   "source": [
    "### Checking for the data type to encode the categorical (textual) data into numerical values"
   ]
  },
  {
   "cell_type": "code",
   "execution_count": 4,
   "metadata": {},
   "outputs": [
    {
     "name": "stdout",
     "output_type": "stream",
     "text": [
      "<class 'pandas.core.frame.DataFrame'>\n",
      "RangeIndex: 25000 entries, 0 to 24999\n",
      "Data columns (total 2 columns):\n",
      "Height(Inches)    25000 non-null float64\n",
      "Weight(Pounds)    25000 non-null float64\n",
      "dtypes: float64(2)\n",
      "memory usage: 390.8 KB\n"
     ]
    }
   ],
   "source": [
    "data.info()"
   ]
  },
  {
   "cell_type": "markdown",
   "metadata": {},
   "source": [
    "As we can see there is 3 columns \n",
    "1.) Index\n",
    "2.) Height\n",
    "3.) Weight\n",
    "in which, Index has integer type\n",
    "Height has Floating Type\n",
    "Weight has Floating type \n",
    "so there isnt any categorical value so we dont need to do Encoding the data"
   ]
  },
  {
   "cell_type": "markdown",
   "metadata": {},
   "source": [
    "### Checking for the data if it has outliers "
   ]
  },
  {
   "cell_type": "code",
   "execution_count": 5,
   "metadata": {},
   "outputs": [
    {
     "name": "stderr",
     "output_type": "stream",
     "text": [
      "C:\\Users\\Lenovo\\Anaconda3\\lib\\site-packages\\seaborn\\_core.py:1319: UserWarning: Horizontal orientation ignored with only `y` specified.\n",
      "  warnings.warn(single_var_warning.format(\"Horizontal\", \"y\"))\n"
     ]
    },
    {
     "data": {
      "text/plain": [
       "<matplotlib.axes._subplots.AxesSubplot at 0x24634d880c8>"
      ]
     },
     "execution_count": 5,
     "metadata": {},
     "output_type": "execute_result"
    },
    {
     "data": {
      "image/png": "[encoded data removed]",
      "text/plain": [
       "<Figure size 432x288 with 1 Axes>"
      ]
     },
     "metadata": {
      "needs_background": "light"
     },
     "output_type": "display_data"
    }
   ],
   "source": [
    "import seaborn as sns\n",
    "sns.boxplot(y=data['Height(Inches)'],orient='h')"
   ]
  },
  {
   "cell_type": "code",
   "execution_count": 6,
   "metadata": {},
   "outputs": [
    {
     "name": "stderr",
     "output_type": "stream",
     "text": [
      "C:\\Users\\Lenovo\\Anaconda3\\lib\\site-packages\\seaborn\\_core.py:1319: UserWarning: Horizontal orientation ignored with only `y` specified.\n",
      "  warnings.warn(single_var_warning.format(\"Horizontal\", \"y\"))\n"
     ]
    },
    {
     "data": {
      "text/plain": [
       "<matplotlib.axes._subplots.AxesSubplot at 0x246361c7ec8>"
      ]
     },
     "execution_count": 6,
     "metadata": {},
     "output_type": "execute_result"
    },
    {
     "data": {
      "image/png": "[encoded data removed]",
      "text/plain": [
       "<Figure size 432x288 with 1 Axes>"
      ]
     },
     "metadata": {
      "needs_background": "light"
     },
     "output_type": "display_data"
    }
   ],
   "source": [
    "sns.boxplot(y=data['Weight(Pounds)'],orient='h')"
   ]
  },
  {
   "cell_type": "markdown",
   "metadata": {},
   "source": [
    "As we can see in above diagram the points which is shown outside of the \"whiskers\" (the endge of the box plot that looks like \"T\" shape and upside down \"T\")"
   ]
  },
  {
   "cell_type": "markdown",
   "metadata": {},
   "source": [
    "### Handling the Outliers"
   ]
  },
  {
   "cell_type": "markdown",
   "metadata": {},
   "source": [
    "Finding the lower and upper limits for Height and Weight\n"
   ]
  },
  {
   "cell_type": "code",
   "execution_count": 7,
   "metadata": {},
   "outputs": [
    {
     "name": "stdout",
     "output_type": "stream",
     "text": [
      "Highest height allowed 73.6981499104166\n",
      "Lowest height allowed 62.28807728318297\n",
      "Highest weight allowed 162.06211385161203\n",
      "Highest weight allowed 92.09672846998629\n"
     ]
    }
   ],
   "source": [
    "print(\"Highest height allowed\",data['Height(Inches)'].mean() + 3*data['Height(Inches)'].std())\n",
    "print(\"Lowest height allowed\",data['Height(Inches)'].mean() - 3*data['Height(Inches)'].std())\n",
    "\n",
    "print(\"Highest weight allowed\",data['Weight(Pounds)'].mean()+3*data['Weight(Pounds)'].std())\n",
    "print(\"Highest weight allowed\",data['Weight(Pounds)'].mean()-3*data['Weight(Pounds)'].std())"
   ]
  },
  {
   "cell_type": "markdown",
   "metadata": {},
   "source": [
    "Now we need to capping the values in nearer to this values. We can drop this outliers as well but it will\n",
    "left with low records to train our algorithm \n",
    "which generates low accuracy so, we are going to capiing all this values"
   ]
  },
  {
   "cell_type": "code",
   "execution_count": 8,
   "metadata": {},
   "outputs": [
    {
     "data": {
      "text/html": [
       "<div>\n",
       "<style scoped>\n",
       "    .dataframe tbody tr th:only-of-type {\n",
       "        vertical-align: middle;\n",
       "    }\n",
       "\n",
       "    .dataframe tbody tr th {\n",
       "        vertical-align: top;\n",
       "    }\n",
       "\n",
       "    .dataframe thead th {\n",
       "        text-align: right;\n",
       "    }\n",
       "</style>\n",
       "<table border=\"1\" class=\"dataframe\">\n",
       "  <thead>\n",
       "    <tr style=\"text-align: right;\">\n",
       "      <th></th>\n",
       "      <th>Height(Inches)</th>\n",
       "      <th>Weight(Pounds)</th>\n",
       "    </tr>\n",
       "  </thead>\n",
       "  <tbody>\n",
       "    <tr>\n",
       "      <td>138</td>\n",
       "      <td>73.90107</td>\n",
       "      <td>151.39130</td>\n",
       "    </tr>\n",
       "    <tr>\n",
       "      <td>174</td>\n",
       "      <td>73.83364</td>\n",
       "      <td>139.29830</td>\n",
       "    </tr>\n",
       "    <tr>\n",
       "      <td>412</td>\n",
       "      <td>62.01666</td>\n",
       "      <td>109.08480</td>\n",
       "    </tr>\n",
       "    <tr>\n",
       "      <td>1162</td>\n",
       "      <td>74.24899</td>\n",
       "      <td>150.21670</td>\n",
       "    </tr>\n",
       "    <tr>\n",
       "      <td>1383</td>\n",
       "      <td>74.19488</td>\n",
       "      <td>129.05970</td>\n",
       "    </tr>\n",
       "    <tr>\n",
       "      <td>1893</td>\n",
       "      <td>75.15280</td>\n",
       "      <td>146.97010</td>\n",
       "    </tr>\n",
       "    <tr>\n",
       "      <td>2395</td>\n",
       "      <td>73.99549</td>\n",
       "      <td>142.90160</td>\n",
       "    </tr>\n",
       "    <tr>\n",
       "      <td>2481</td>\n",
       "      <td>75.11519</td>\n",
       "      <td>153.95620</td>\n",
       "    </tr>\n",
       "    <tr>\n",
       "      <td>2651</td>\n",
       "      <td>60.61265</td>\n",
       "      <td>88.04646</td>\n",
       "    </tr>\n",
       "    <tr>\n",
       "      <td>3696</td>\n",
       "      <td>61.89340</td>\n",
       "      <td>95.74545</td>\n",
       "    </tr>\n",
       "    <tr>\n",
       "      <td>4191</td>\n",
       "      <td>74.03777</td>\n",
       "      <td>139.59530</td>\n",
       "    </tr>\n",
       "    <tr>\n",
       "      <td>4508</td>\n",
       "      <td>74.28376</td>\n",
       "      <td>147.78770</td>\n",
       "    </tr>\n",
       "    <tr>\n",
       "      <td>5641</td>\n",
       "      <td>60.86340</td>\n",
       "      <td>106.19390</td>\n",
       "    </tr>\n",
       "    <tr>\n",
       "      <td>6405</td>\n",
       "      <td>62.23548</td>\n",
       "      <td>94.80998</td>\n",
       "    </tr>\n",
       "    <tr>\n",
       "      <td>6481</td>\n",
       "      <td>61.59011</td>\n",
       "      <td>99.81074</td>\n",
       "    </tr>\n",
       "    <tr>\n",
       "      <td>6627</td>\n",
       "      <td>73.72628</td>\n",
       "      <td>142.81100</td>\n",
       "    </tr>\n",
       "    <tr>\n",
       "      <td>6941</td>\n",
       "      <td>61.40550</td>\n",
       "      <td>119.26520</td>\n",
       "    </tr>\n",
       "    <tr>\n",
       "      <td>7269</td>\n",
       "      <td>73.81695</td>\n",
       "      <td>140.09150</td>\n",
       "    </tr>\n",
       "    <tr>\n",
       "      <td>7839</td>\n",
       "      <td>73.85521</td>\n",
       "      <td>136.06670</td>\n",
       "    </tr>\n",
       "    <tr>\n",
       "      <td>8472</td>\n",
       "      <td>73.95409</td>\n",
       "      <td>145.26950</td>\n",
       "    </tr>\n",
       "    <tr>\n",
       "      <td>8828</td>\n",
       "      <td>74.27270</td>\n",
       "      <td>144.66000</td>\n",
       "    </tr>\n",
       "    <tr>\n",
       "      <td>9225</td>\n",
       "      <td>73.75335</td>\n",
       "      <td>153.10220</td>\n",
       "    </tr>\n",
       "    <tr>\n",
       "      <td>9492</td>\n",
       "      <td>74.05895</td>\n",
       "      <td>133.81720</td>\n",
       "    </tr>\n",
       "    <tr>\n",
       "      <td>9876</td>\n",
       "      <td>61.30021</td>\n",
       "      <td>120.88190</td>\n",
       "    </tr>\n",
       "    <tr>\n",
       "      <td>10240</td>\n",
       "      <td>61.93152</td>\n",
       "      <td>85.29040</td>\n",
       "    </tr>\n",
       "    <tr>\n",
       "      <td>10330</td>\n",
       "      <td>74.36328</td>\n",
       "      <td>164.66430</td>\n",
       "    </tr>\n",
       "    <tr>\n",
       "      <td>10635</td>\n",
       "      <td>73.88574</td>\n",
       "      <td>135.98160</td>\n",
       "    </tr>\n",
       "    <tr>\n",
       "      <td>11173</td>\n",
       "      <td>74.16797</td>\n",
       "      <td>142.77320</td>\n",
       "    </tr>\n",
       "    <tr>\n",
       "      <td>12031</td>\n",
       "      <td>60.86977</td>\n",
       "      <td>108.86330</td>\n",
       "    </tr>\n",
       "    <tr>\n",
       "      <td>13681</td>\n",
       "      <td>74.74047</td>\n",
       "      <td>155.54620</td>\n",
       "    </tr>\n",
       "    <tr>\n",
       "      <td>13971</td>\n",
       "      <td>60.27836</td>\n",
       "      <td>110.11380</td>\n",
       "    </tr>\n",
       "    <tr>\n",
       "      <td>14063</td>\n",
       "      <td>74.04804</td>\n",
       "      <td>149.63030</td>\n",
       "    </tr>\n",
       "    <tr>\n",
       "      <td>14106</td>\n",
       "      <td>61.90725</td>\n",
       "      <td>78.56785</td>\n",
       "    </tr>\n",
       "    <tr>\n",
       "      <td>15209</td>\n",
       "      <td>74.59993</td>\n",
       "      <td>147.03720</td>\n",
       "    </tr>\n",
       "    <tr>\n",
       "      <td>15966</td>\n",
       "      <td>74.25069</td>\n",
       "      <td>150.05670</td>\n",
       "    </tr>\n",
       "    <tr>\n",
       "      <td>16145</td>\n",
       "      <td>74.47517</td>\n",
       "      <td>130.90920</td>\n",
       "    </tr>\n",
       "    <tr>\n",
       "      <td>16385</td>\n",
       "      <td>73.88318</td>\n",
       "      <td>134.21790</td>\n",
       "    </tr>\n",
       "    <tr>\n",
       "      <td>16752</td>\n",
       "      <td>74.84890</td>\n",
       "      <td>122.16640</td>\n",
       "    </tr>\n",
       "    <tr>\n",
       "      <td>17079</td>\n",
       "      <td>74.29570</td>\n",
       "      <td>170.54790</td>\n",
       "    </tr>\n",
       "    <tr>\n",
       "      <td>19005</td>\n",
       "      <td>74.01942</td>\n",
       "      <td>124.23120</td>\n",
       "    </tr>\n",
       "    <tr>\n",
       "      <td>19198</td>\n",
       "      <td>61.82700</td>\n",
       "      <td>100.93910</td>\n",
       "    </tr>\n",
       "    <tr>\n",
       "      <td>19750</td>\n",
       "      <td>62.05222</td>\n",
       "      <td>120.43650</td>\n",
       "    </tr>\n",
       "    <tr>\n",
       "      <td>20608</td>\n",
       "      <td>60.80620</td>\n",
       "      <td>113.91450</td>\n",
       "    </tr>\n",
       "    <tr>\n",
       "      <td>21949</td>\n",
       "      <td>74.42744</td>\n",
       "      <td>141.74160</td>\n",
       "    </tr>\n",
       "    <tr>\n",
       "      <td>22471</td>\n",
       "      <td>74.51784</td>\n",
       "      <td>146.98670</td>\n",
       "    </tr>\n",
       "    <tr>\n",
       "      <td>22507</td>\n",
       "      <td>61.57720</td>\n",
       "      <td>96.81420</td>\n",
       "    </tr>\n",
       "    <tr>\n",
       "      <td>22769</td>\n",
       "      <td>74.19842</td>\n",
       "      <td>141.61480</td>\n",
       "    </tr>\n",
       "    <tr>\n",
       "      <td>22945</td>\n",
       "      <td>61.92639</td>\n",
       "      <td>78.01476</td>\n",
       "    </tr>\n",
       "    <tr>\n",
       "      <td>23039</td>\n",
       "      <td>73.95494</td>\n",
       "      <td>154.39870</td>\n",
       "    </tr>\n",
       "    <tr>\n",
       "      <td>24244</td>\n",
       "      <td>62.26498</td>\n",
       "      <td>104.13480</td>\n",
       "    </tr>\n",
       "    <tr>\n",
       "      <td>24801</td>\n",
       "      <td>74.53177</td>\n",
       "      <td>148.91040</td>\n",
       "    </tr>\n",
       "  </tbody>\n",
       "</table>\n",
       "</div>"
      ],
      "text/plain": [
       "       Height(Inches)  Weight(Pounds)\n",
       "138          73.90107       151.39130\n",
       "174          73.83364       139.29830\n",
       "412          62.01666       109.08480\n",
       "1162         74.24899       150.21670\n",
       "1383         74.19488       129.05970\n",
       "1893         75.15280       146.97010\n",
       "2395         73.99549       142.90160\n",
       "2481         75.11519       153.95620\n",
       "2651         60.61265        88.04646\n",
       "3696         61.89340        95.74545\n",
       "4191         74.03777       139.59530\n",
       "4508         74.28376       147.78770\n",
       "5641         60.86340       106.19390\n",
       "6405         62.23548        94.80998\n",
       "6481         61.59011        99.81074\n",
       "6627         73.72628       142.81100\n",
       "6941         61.40550       119.26520\n",
       "7269         73.81695       140.09150\n",
       "7839         73.85521       136.06670\n",
       "8472         73.95409       145.26950\n",
       "8828         74.27270       144.66000\n",
       "9225         73.75335       153.10220\n",
       "9492         74.05895       133.81720\n",
       "9876         61.30021       120.88190\n",
       "10240        61.93152        85.29040\n",
       "10330        74.36328       164.66430\n",
       "10635        73.88574       135.98160\n",
       "11173        74.16797       142.77320\n",
       "12031        60.86977       108.86330\n",
       "13681        74.74047       155.54620\n",
       "13971        60.27836       110.11380\n",
       "14063        74.04804       149.63030\n",
       "14106        61.90725        78.56785\n",
       "15209        74.59993       147.03720\n",
       "15966        74.25069       150.05670\n",
       "16145        74.47517       130.90920\n",
       "16385        73.88318       134.21790\n",
       "16752        74.84890       122.16640\n",
       "17079        74.29570       170.54790\n",
       "19005        74.01942       124.23120\n",
       "19198        61.82700       100.93910\n",
       "19750        62.05222       120.43650\n",
       "20608        60.80620       113.91450\n",
       "21949        74.42744       141.74160\n",
       "22471        74.51784       146.98670\n",
       "22507        61.57720        96.81420\n",
       "22769        74.19842       141.61480\n",
       "22945        61.92639        78.01476\n",
       "23039        73.95494       154.39870\n",
       "24244        62.26498       104.13480\n",
       "24801        74.53177       148.91040"
      ]
     },
     "execution_count": 8,
     "metadata": {},
     "output_type": "execute_result"
    }
   ],
   "source": [
    "data[(data['Height(Inches)'] > 73.69) | (data['Height(Inches)'] < 62.28)]"
   ]
  },
  {
   "cell_type": "markdown",
   "metadata": {},
   "source": [
    "as we can see we are lossing this much amount of data if we dropping the outliers"
   ]
  },
  {
   "cell_type": "code",
   "execution_count": 9,
   "metadata": {},
   "outputs": [
    {
     "data": {
      "text/html": [
       "<div>\n",
       "<style scoped>\n",
       "    .dataframe tbody tr th:only-of-type {\n",
       "        vertical-align: middle;\n",
       "    }\n",
       "\n",
       "    .dataframe tbody tr th {\n",
       "        vertical-align: top;\n",
       "    }\n",
       "\n",
       "    .dataframe thead th {\n",
       "        text-align: right;\n",
       "    }\n",
       "</style>\n",
       "<table border=\"1\" class=\"dataframe\">\n",
       "  <thead>\n",
       "    <tr style=\"text-align: right;\">\n",
       "      <th></th>\n",
       "      <th>Height(Inches)</th>\n",
       "      <th>Weight(Pounds)</th>\n",
       "    </tr>\n",
       "  </thead>\n",
       "  <tbody>\n",
       "    <tr>\n",
       "      <td>0</td>\n",
       "      <td>65.78331</td>\n",
       "      <td>112.9925</td>\n",
       "    </tr>\n",
       "    <tr>\n",
       "      <td>1</td>\n",
       "      <td>71.51521</td>\n",
       "      <td>136.4873</td>\n",
       "    </tr>\n",
       "    <tr>\n",
       "      <td>2</td>\n",
       "      <td>69.39874</td>\n",
       "      <td>153.0269</td>\n",
       "    </tr>\n",
       "    <tr>\n",
       "      <td>3</td>\n",
       "      <td>68.21660</td>\n",
       "      <td>142.3354</td>\n",
       "    </tr>\n",
       "    <tr>\n",
       "      <td>4</td>\n",
       "      <td>67.78781</td>\n",
       "      <td>144.2971</td>\n",
       "    </tr>\n",
       "    <tr>\n",
       "      <td>...</td>\n",
       "      <td>...</td>\n",
       "      <td>...</td>\n",
       "    </tr>\n",
       "    <tr>\n",
       "      <td>24995</td>\n",
       "      <td>69.50215</td>\n",
       "      <td>118.0312</td>\n",
       "    </tr>\n",
       "    <tr>\n",
       "      <td>24996</td>\n",
       "      <td>64.54826</td>\n",
       "      <td>120.1932</td>\n",
       "    </tr>\n",
       "    <tr>\n",
       "      <td>24997</td>\n",
       "      <td>64.69855</td>\n",
       "      <td>118.2655</td>\n",
       "    </tr>\n",
       "    <tr>\n",
       "      <td>24998</td>\n",
       "      <td>67.52918</td>\n",
       "      <td>132.2682</td>\n",
       "    </tr>\n",
       "    <tr>\n",
       "      <td>24999</td>\n",
       "      <td>68.87761</td>\n",
       "      <td>124.8742</td>\n",
       "    </tr>\n",
       "  </tbody>\n",
       "</table>\n",
       "<p>24949 rows × 2 columns</p>\n",
       "</div>"
      ],
      "text/plain": [
       "       Height(Inches)  Weight(Pounds)\n",
       "0            65.78331        112.9925\n",
       "1            71.51521        136.4873\n",
       "2            69.39874        153.0269\n",
       "3            68.21660        142.3354\n",
       "4            67.78781        144.2971\n",
       "...               ...             ...\n",
       "24995        69.50215        118.0312\n",
       "24996        64.54826        120.1932\n",
       "24997        64.69855        118.2655\n",
       "24998        67.52918        132.2682\n",
       "24999        68.87761        124.8742\n",
       "\n",
       "[24949 rows x 2 columns]"
      ]
     },
     "execution_count": 9,
     "metadata": {},
     "output_type": "execute_result"
    }
   ],
   "source": [
    "new_data = data[(data['Height(Inches)'] < 73.69) & (data['Height(Inches)'] > 62.28)]\n",
    "new_data"
   ]
  },
  {
   "cell_type": "markdown",
   "metadata": {},
   "source": [
    "The above records shows us the outlier's records are in data set"
   ]
  },
  {
   "cell_type": "code",
   "execution_count": 10,
   "metadata": {},
   "outputs": [],
   "source": [
    "upper_limit_height = data['Height(Inches)'].mean() + 3*data['Height(Inches)'].std()\n",
    "lower_limit_height = data['Height(Inches)'].mean() - 3*data['Height(Inches)'].std()\n",
    "\n",
    "upper_limit_weight = data['Weight(Pounds)'].mean() + 3*data['Weight(Pounds)'].std()\n",
    "lower_limit_weight = data['Weight(Pounds)'].mean() - 3*data['Weight(Pounds)'].std()"
   ]
  },
  {
   "cell_type": "markdown",
   "metadata": {},
   "source": [
    "The above code is to find the upper limit and lower limit that shows in above box plot "
   ]
  },
  {
   "cell_type": "markdown",
   "metadata": {},
   "source": [
    "### Capping the outliers within the range of the upper limit and lower limit"
   ]
  },
  {
   "cell_type": "code",
   "execution_count": 11,
   "metadata": {},
   "outputs": [],
   "source": [
    "data['Height(Inches)'] = np.where(\n",
    "    data['Height(Inches)']>upper_limit_height,\n",
    "    upper_limit_height,\n",
    "    np.where(\n",
    "        data['Height(Inches)']<lower_limit_height,\n",
    "        lower_limit_height,\n",
    "        data['Height(Inches)']\n",
    "    )\n",
    ")"
   ]
  },
  {
   "cell_type": "code",
   "execution_count": 12,
   "metadata": {},
   "outputs": [],
   "source": [
    "data['Weight(Pounds)'] = np.where(\n",
    "    data['Weight(Pounds)']>upper_limit_weight,\n",
    "    upper_limit_weight,\n",
    "    np.where(\n",
    "        data['Weight(Pounds)']<lower_limit_weight,\n",
    "        lower_limit_weight,\n",
    "        data['Weight(Pounds)']\n",
    "    )\n",
    ")"
   ]
  },
  {
   "cell_type": "markdown",
   "metadata": {},
   "source": [
    "### Finding the Corelation between the 2 columns height and weight"
   ]
  },
  {
   "cell_type": "code",
   "execution_count": 13,
   "metadata": {},
   "outputs": [
    {
     "data": {
      "text/html": [
       "<div>\n",
       "<style scoped>\n",
       "    .dataframe tbody tr th:only-of-type {\n",
       "        vertical-align: middle;\n",
       "    }\n",
       "\n",
       "    .dataframe tbody tr th {\n",
       "        vertical-align: top;\n",
       "    }\n",
       "\n",
       "    .dataframe thead th {\n",
       "        text-align: right;\n",
       "    }\n",
       "</style>\n",
       "<table border=\"1\" class=\"dataframe\">\n",
       "  <thead>\n",
       "    <tr style=\"text-align: right;\">\n",
       "      <th></th>\n",
       "      <th>Height(Inches)</th>\n",
       "      <th>Weight(Pounds)</th>\n",
       "    </tr>\n",
       "  </thead>\n",
       "  <tbody>\n",
       "    <tr>\n",
       "      <td>Height(Inches)</td>\n",
       "      <td>1.000000</td>\n",
       "      <td>0.502572</td>\n",
       "    </tr>\n",
       "    <tr>\n",
       "      <td>Weight(Pounds)</td>\n",
       "      <td>0.502572</td>\n",
       "      <td>1.000000</td>\n",
       "    </tr>\n",
       "  </tbody>\n",
       "</table>\n",
       "</div>"
      ],
      "text/plain": [
       "                Height(Inches)  Weight(Pounds)\n",
       "Height(Inches)        1.000000        0.502572\n",
       "Weight(Pounds)        0.502572        1.000000"
      ]
     },
     "execution_count": 13,
     "metadata": {},
     "output_type": "execute_result"
    }
   ],
   "source": [
    "data.corr()"
   ]
  },
  {
   "cell_type": "markdown",
   "metadata": {},
   "source": [
    "As we can see over here it says both column are corelated with each other with 0.5 which is slightly positive \n",
    "if it is 0.7 it could be highly positive \n",
    "if it is 0.9 or 1 it means it is strongly positive correlation between them"
   ]
  },
  {
   "cell_type": "markdown",
   "metadata": {},
   "source": [
    "### Feature Selection Process"
   ]
  },
  {
   "cell_type": "code",
   "execution_count": 14,
   "metadata": {},
   "outputs": [],
   "source": [
    "X = data.iloc[:,:-1].values\n",
    "y = data.iloc[:,1].values"
   ]
  },
  {
   "cell_type": "markdown",
   "metadata": {},
   "source": [
    "As we just have 2 columns in our dataset height and weight and we are clear to predict the weight using height so we have one attribut for input and one attribute as output variable. "
   ]
  },
  {
   "cell_type": "markdown",
   "metadata": {},
   "source": [
    "### Splitting the Training and Testing data"
   ]
  },
  {
   "cell_type": "code",
   "execution_count": 15,
   "metadata": {},
   "outputs": [],
   "source": [
    "from sklearn.model_selection import train_test_split\n",
    "X_train, X_test, y_train, y_test = train_test_split(X, y, test_size=0.2, random_state=0)"
   ]
  },
  {
   "cell_type": "markdown",
   "metadata": {},
   "source": [
    "The reason we had put 0.2 in test_size in above function is because the standard value of training and testing size is \n",
    "80%:20% of ratio that means 80% of training set and 20% of testing set. "
   ]
  },
  {
   "cell_type": "markdown",
   "metadata": {},
   "source": [
    "### Training the model "
   ]
  },
  {
   "cell_type": "code",
   "execution_count": 17,
   "metadata": {},
   "outputs": [
    {
     "data": {
      "text/plain": [
       "LinearRegression(copy_X=True, fit_intercept=True, n_jobs=None, normalize=False)"
      ]
     },
     "execution_count": 17,
     "metadata": {},
     "output_type": "execute_result"
    }
   ],
   "source": [
    "from sklearn.linear_model import LinearRegression\n",
    "reg = LinearRegression()\n",
    "reg.fit(X_train,y_train)"
   ]
  },
  {
   "cell_type": "markdown",
   "metadata": {},
   "source": [
    "We just have 2 things so we can use Linear regression as we had only 2 attributes and our data is satisfying the requierement for linear regression:- ans = X0 * a + b"
   ]
  },
  {
   "cell_type": "markdown",
   "metadata": {},
   "source": [
    "where X0 is a constant and 'a' in our case is Height and 'b' in our case is Weight"
   ]
  },
  {
   "cell_type": "markdown",
   "metadata": {},
   "source": [
    "### Predicting the Value of the Data set "
   ]
  },
  {
   "cell_type": "code",
   "execution_count": 20,
   "metadata": {},
   "outputs": [
    {
     "name": "stdout",
     "output_type": "stream",
     "text": [
      "[123.34314631 134.00101028 124.68271745 ... 125.68547618 130.43153304\n",
      " 123.0549744 ]\n",
      "[[66.75233]\n",
      " [70.23626]\n",
      " [67.19022]\n",
      " ...\n",
      " [67.51801]\n",
      " [69.06944]\n",
      " [66.65813]]\n"
     ]
    }
   ],
   "source": [
    "y_pred = reg.predict(X_test)\n",
    "print(y_pred)"
   ]
  },
  {
   "cell_type": "markdown",
   "metadata": {},
   "source": [
    "We had trained our machine now its time to check its prediction"
   ]
  },
  {
   "cell_type": "markdown",
   "metadata": {},
   "source": [
    "### Predicting our real life weight using the model we just build"
   ]
  },
  {
   "cell_type": "code",
   "execution_count": 21,
   "metadata": {},
   "outputs": [
    {
     "name": "stdout",
     "output_type": "stream",
     "text": [
      "[136.33740539] pounds\n"
     ]
    }
   ],
   "source": [
    "print(reg.predict([[71]]),\"pounds\")"
   ]
  },
  {
   "cell_type": "markdown",
   "metadata": {},
   "source": [
    "so as we should have a lil bit confusion over here. we wrote 71 that is in inches for 5'11\" \n",
    "we put it 71 because we have data in inches and pounds \n",
    "yes you guess correctly we are having 136.33740539 weight is in pounds which is equivalent to 61kgs \n",
    "that you can find the other online websites as well"
   ]
  },
  {
   "cell_type": "markdown",
   "metadata": {},
   "source": [
    "Now to find our prediction we can find the BMI on web which is Body Mass Index according to that our model predicting the normal value"
   ]
  }
 ],
 "metadata": {
  "kernelspec": {
   "display_name": "Python 3",
   "language": "python",
   "name": "python3"
  },
  "language_info": {
   "codemirror_mode": {
    "name": "ipython",
    "version": 3
   },
   "file_extension": ".py",
   "mimetype": "text/x-python",
   "name": "python",
   "nbconvert_exporter": "python",
   "pygments_lexer": "ipython3",
   "version": "3.7.4"
  }
 },
 "nbformat": 4,
 "nbformat_minor": 2
}
